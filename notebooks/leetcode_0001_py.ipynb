{
  "nbformat": 4,
  "nbformat_minor": 0,
  "metadata": {
    "colab": {
      "provenance": []
    },
    "kernelspec": {
      "name": "python3",
      "display_name": "Python 3"
    },
    "language_info": {
      "name": "python"
    }
  },
  "cells": [
    {
      "cell_type": "markdown",
      "source": [
        "# Leetcode 0001-Two Sum\n",
        "Given an array of integers $nums$ and an integer $target$, return indices of the two numbers such that they add up to target.\n",
        "\n",
        "You may assume that each input would have exactly one solution, and you may not use the same element twice.\n",
        "\n",
        "You can return the answer in any order.\n",
        "\n",
        "## Examples\n",
        "```\n",
        "Input: nums = [2,7,11,15], target = 9\n",
        "Output: [0,1]\n",
        "Explanation: Because nums[0] + nums[1] == 9, we return [0, 1].\n",
        "```"
      ],
      "metadata": {
        "id": "SuzOmyPVrQTc"
      }
    },
    {
      "cell_type": "markdown",
      "source": [
        "## Ver. 1\n",
        "\n",
        "$O(N^2)$"
      ],
      "metadata": {
        "id": "o7rOrbnouBtU"
      }
    },
    {
      "cell_type": "code",
      "execution_count": 5,
      "metadata": {
        "colab": {
          "base_uri": "https://localhost:8080/"
        },
        "id": "_by6esJcrJT_",
        "outputId": "0faeda48-5d20-4fb2-d73f-90884e8f18dc"
      },
      "outputs": [
        {
          "output_type": "stream",
          "name": "stdout",
          "text": [
            "[0, 1]\n"
          ]
        }
      ],
      "source": [
        "nums = [2,7,11,15]\n",
        "target = 9\n",
        "for i in range(len(nums)):\n",
        "    for j in range(i+1, len(nums)):\n",
        "      if i==j:\n",
        "        continue\n",
        "      if nums[i] + nums[j] == target:\n",
        "          print([i, j])"
      ]
    },
    {
      "cell_type": "markdown",
      "source": [
        "## Ver. 2\n",
        "\n",
        "$O(N)$\n",
        "Beats 57.54%of users with Python3"
      ],
      "metadata": {
        "id": "si-r7OhWuRqj"
      }
    },
    {
      "cell_type": "code",
      "source": [
        "nums = [2,7,11,15]\n",
        "target = 9\n",
        "complement={}\n",
        "for i in range(len(nums)):\n",
        "  a=nums[i]\n",
        "  b=target-a\n",
        "  complement[b]=i\n",
        "for i in range(len(nums)):\n",
        "  a=nums[i]\n",
        "  if a in complement:\n",
        "    j = complement[a]\n",
        "    if i>j:\n",
        "      continue\n",
        "    print([i, j])"
      ],
      "metadata": {
        "colab": {
          "base_uri": "https://localhost:8080/"
        },
        "id": "iBPgLrR0uUvr",
        "outputId": "8b6a9d72-a9dc-401e-9a29-e87d6f75e3b8"
      },
      "execution_count": 10,
      "outputs": [
        {
          "output_type": "stream",
          "name": "stdout",
          "text": [
            "[0, 1]\n"
          ]
        }
      ]
    }
  ]
}